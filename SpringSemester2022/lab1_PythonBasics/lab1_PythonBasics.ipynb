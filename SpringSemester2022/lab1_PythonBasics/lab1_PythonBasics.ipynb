{
 "cells": [
  {
   "cell_type": "markdown",
   "id": "05a24a53",
   "metadata": {},
   "source": [
    "#### Задание №1                                                       \n",
    "Напишите скрипт, который преобразует введенное с клавиатуры вещественное число в денежный формат. Например, число 12,5 должно быть преобразовано к виду «12 руб. 50 коп.». В случае ввода отрицательного числа выдайте сообщение «Некорректный формат!» путем обработки исключения в коде.                               "
   ]
  },
  {
   "cell_type": "code",
   "execution_count": 9,
   "id": "54e33aee",
   "metadata": {},
   "outputs": [
    {
     "name": "stdout",
     "output_type": "stream",
     "text": [
      "12 руб. 50 коп.\n"
     ]
    }
   ],
   "source": [
    "money = input(\"Enter your number: \")\n",
    "try:\n",
    "    if float(money) < 0: raise ValueError('Money should be a positive')\n",
    "    print(\"{} руб. {} коп.\".format(money.split(\".\")[0], money.split(\".\")[1].ljust(2, '0')))\n",
    "except ValueError as e:\n",
    "    print(e)"
   ]
  },
  {
   "cell_type": "markdown",
   "id": "5d7f02b8",
   "metadata": {},
   "source": [
    "#### Задание №2                                                     \n",
    "Написать скрипт, который выводит на экран «True», если элементы программно задаваемого списка представляют собой возрастающую последовательность, иначе – «False».                           "
   ]
  },
  {
   "cell_type": "code",
   "execution_count": 13,
   "id": "bf8a0f2d",
   "metadata": {},
   "outputs": [
    {
     "name": "stdout",
     "output_type": "stream",
     "text": [
      "True\n",
      "False\n"
     ]
    }
   ],
   "source": [
    "def isAscending(lst):                                             \n",
    "    i = 1\n",
    "    while i < len(lst): \n",
    "        if (lst[i] < lst[i - 1]): return bool(0)\n",
    "        i += 1\n",
    "    return bool(1)\n",
    "\n",
    "print(isAscending([1, 2, 3, 4, 5, 6, 7, 8]))    \n",
    "print(isAscending([6, 2, 5, 4, 5, 6, 7, 8]))"
   ]
  },
  {
   "cell_type": "markdown",
   "id": "d4d40a8e",
   "metadata": {},
   "source": [
    "#### Задание №3                                                        \n",
    "Напишите скрипт, который позволяет ввести с клавиатуры номер дебетовой карты (16 цифр) и выводит номер в скрытом виде: первые и последние 4 цифры отображены нормально, а между ними – символы «*» (например, 5123 **** **** 1212).                              "
   ]
  },
  {
   "cell_type": "code",
   "execution_count": 14,
   "id": "dfd0f94b",
   "metadata": {},
   "outputs": [
    {
     "name": "stdout",
     "output_type": "stream",
     "text": [
      "1234 **** **** 4567\n"
     ]
    }
   ],
   "source": [
    "number = input(\"Card number: \")\n",
    "print(number[:4], \"**** ****\", number[-4:])"
   ]
  },
  {
   "cell_type": "markdown",
   "id": "51b72449",
   "metadata": {},
   "source": [
    "#### Задание №4                                                        \n",
    "Напишите скрипт, который разделяет введенный с клавиатуры текст на слова и выводит сначала те слова, длина которых превосходит 7 символов, затем слова размером от 4 до 7 символов, затем – все остальные.                                                        "
   ]
  },
  {
   "cell_type": "code",
   "execution_count": 207,
   "id": "f0d6062d",
   "metadata": {},
   "outputs": [
    {
     "name": "stdout",
     "output_type": "stream",
     "text": [
      "something adding check Well need this part code long to of i\n"
     ]
    }
   ],
   "source": [
    "print(*sorted(input(\"Enter text: \").split(), key = len, reverse = True)[0:])"
   ]
  },
  {
   "cell_type": "markdown",
   "id": "7dcf58cb",
   "metadata": {},
   "source": [
    "#### Задание №5                                                        \n",
    "Напишите скрипт, который позволяет ввести с клавиатуры текст предложения и сформировать новую строку на основе исходной, в которой все слова, начинающиеся с большой буквы, приведены к верхнему регистру. Слова могут разделяться запятыми или пробелами. Например, если пользователь введет строку «город Донецк, река Кальмиус», результирующая строка должна выглядеть так: «город ДОНЕЦК, река КАЛЬМИУС».                                           "
   ]
  },
  {
   "cell_type": "code",
   "execution_count": 208,
   "id": "c47b9213",
   "metadata": {},
   "outputs": [
    {
     "name": "stdout",
     "output_type": "stream",
     "text": [
      "city DONETSK, river KALMIUS\n"
     ]
    }
   ],
   "source": [
    "print(*[item.upper() if item[0].isupper() else item.lower() for item in input(\"Your text: \").split()])"
   ]
  },
  {
   "cell_type": "markdown",
   "id": "0e746094",
   "metadata": {},
   "source": [
    "#### Задание №6                                                    \n",
    "Напишите программу, позволяющую ввести с клавиатуры текст предложения и вывести на консоль все символы, которые входят в этот текст ровно по одному разу.                              "
   ]
  },
  {
   "cell_type": "code",
   "execution_count": 209,
   "id": "ed7951bf",
   "metadata": {},
   "outputs": [
    {
     "name": "stdout",
     "output_type": "stream",
     "text": [
      "  H I K O R S T W a c d e h k l m n o p r s t u w y\n"
     ]
    }
   ],
   "source": [
    "print(*sorted(list(set(input(\"Your string: \")))))"
   ]
  },
  {
   "cell_type": "markdown",
   "id": "1b3c038b",
   "metadata": {},
   "source": [
    "#### Задание №7                                                        \n",
    "Напишите скрипт, который обрабатывает список строк-адресов следующим образом: сначала определяет, начинается ли каждая строка в списке с префикса «www». Если условие выполняется, то скрипт должен вставить в начало этой строки префикс «http://», а затем проверить, что строка заканчивается на «.com». Если у строки другое окончание, то скрипт должен вставить в конец подстроку «.com». В итоге скрипт должен вывести на консоль новый список с измененными адресами. Используйте генераторы списков.           "
   ]
  },
  {
   "cell_type": "code",
   "execution_count": 18,
   "id": "4e563f20",
   "metadata": {},
   "outputs": [
    {
     "name": "stdout",
     "output_type": "stream",
     "text": [
      "http://www.github.com\n",
      "tg.org.com\n",
      "stackoverflow.com\n",
      "http://www.govnokod.ru.com\n",
      "http://www.deezer.fr.com\n"
     ]
    }
   ],
   "source": [
    "adresses = [\"www.github.com\", \"tg.org\", \"stackoverflow.com\", \"www.govnokod.ru\", \"www.deezer.fr\"]\n",
    "print(*[item[0:] + \".com\" if not item.endswith(\".com\") else item for item in [\"http://\" + item[0:] if item.startswith(\"www\") else item for item in adresses]], sep = \"\\n\")"
   ]
  },
  {
   "cell_type": "markdown",
   "id": "860a6d6e",
   "metadata": {},
   "source": [
    "#### Задание №8                                                        \n",
    "Напишите скрипт, генерирующий случайным образом число n в диапазоне от 1 до 10000. Скрипт должен создать массив из n целых чисел, также сгенерированных случайным образом, и дополнить массив нулями до размера, равного ближайшей сверху степени двойки. Например, если в массиве было n=100 элементов, то массив нужно дополнить 28 нулями, чтобы в итоге был массив из 128 элементов (ближайшая степень двойки к 100 – это число 128, к 35 это 64 и т.д.).                                                 "
   ]
  },
  {
   "cell_type": "code",
   "execution_count": 217,
   "id": "aca4fb4c",
   "metadata": {},
   "outputs": [
    {
     "name": "stdout",
     "output_type": "stream",
     "text": [
      "7 7 2 1 7 1 5 5 3 7 6 8 1 5 3 8 5 5 7 3 4 8 8 3 7 2 1 6 2 7 4 5 3 2 5 5 9 9 5 8 2 7 5 7 5 2 8 0 0 0 0 0 0 0 0 0 0 0 0 0 0 0 0 0  len:  64\n"
     ]
    }
   ],
   "source": [
    "import random\n",
    "lst = [random.randint(1,9) for item in range(random.randint(1, 100))]\n",
    "print(*lst + [0 for item in range(len(lst), 1 << (len(lst) - 1).bit_length())], \" len: \", len(lst + [0 for item in range(len(lst), 1 << (len(lst) - 1).bit_length())]))"
   ]
  },
  {
   "cell_type": "markdown",
   "id": "bbc1d344",
   "metadata": {},
   "source": [
    "#### Задание №9                                                        \n",
    "Напишите программу, имитирующую работу банкомата. Выберите структуру данных для хранения купюр разного достоинства в заданном количестве. При вводе пользователем запрашиваемой суммы денег, скрипт должен вывести на консоль количество купюр подходящего достоинства. Если имеющихся денег не хватает, то необходимо напечатать сообщение «Операция не может быть выполнена!». Например, при сумме 5370 рублей на консоль должно быть выведено «5x1000 + 3x100 + 1x50 + 2x10».                                   "
   ]
  },
  {
   "cell_type": "code",
   "execution_count": 48,
   "id": "ce037ebf",
   "metadata": {},
   "outputs": [
    {
     "name": "stdout",
     "output_type": "stream",
     "text": [
      "3x1000 + 1x500 + 0x100 + 1x50\n"
     ]
    }
   ],
   "source": [
    "money = {1000 : 10, 500 : 20, 100 : 20, 50 : 20}\n",
    "dict = {1000 : 0, 500 : 0, 100 : 0, 50 : 0}\n",
    "num = int(input(\"money: \"))\n",
    "\n",
    "def meh(rng, sum):\n",
    "    for item in range(money[rng]):\n",
    "        if (sum + rng <= num):\n",
    "            sum += rng\n",
    "            dict[rng] += 1\n",
    "    return sum\n",
    "\n",
    "sum = 0\n",
    "while sum < num:\n",
    "    for item in money:\n",
    "        sum = meh(item, sum)\n",
    "    if (sum < num):\n",
    "        print(\"Error!\")\n",
    "    break\n",
    "print(\"{}x1000 + {}x500 + {}x100 + {}x50\".format(dict[1000], dict[500], dict[100], dict[50]))"
   ]
  },
  {
   "cell_type": "markdown",
   "id": "eb102468",
   "metadata": {},
   "source": [
    "#### Задание №10\n",
    "Напишите скрипт, позволяющий определить надежность вводимого пользователем пароля. Это задание является творческим: алгоритм определения надежности разработайте самостоятельно."
   ]
  },
  {
   "cell_type": "code",
   "execution_count": 52,
   "id": "12c972de",
   "metadata": {},
   "outputs": [
    {
     "name": "stdout",
     "output_type": "stream",
     "text": [
      "more - better: 8\n"
     ]
    }
   ],
   "source": [
    "print(\"more - better: {}\".format(len(list(set(input(\"password: \"))))))"
   ]
  },
  {
   "cell_type": "markdown",
   "id": "697b3c99",
   "metadata": {},
   "source": [
    "#### Задание №11\n",
    "Напишите генератор frange как аналог range() с дробным шагом. \n",
    "<br>Пример вызова: <br>\n",
    "<code>for x in frange(1, 5, 0.1):<br>\n",
    "    &nbsp;print(x)</code><br>\n",
    "выводит 1 1.1 1.2 1.3 1.4 … 4.9"
   ]
  },
  {
   "cell_type": "code",
   "execution_count": 230,
   "id": "ef27cbd3",
   "metadata": {},
   "outputs": [
    {
     "name": "stdout",
     "output_type": "stream",
     "text": [
      "1,  1.1,  1.2,  1.3,  1.4,  1.5,  1.6,  1.7,  1.8,  1.9\n"
     ]
    }
   ],
   "source": [
    "def frange(start, end, step):\n",
    "    while start <= end:\n",
    "        yield round(start, 3)\n",
    "        start += step\n",
    "\n",
    "print(*[step for step in frange(1, 2, 0.1)], sep = ',  ')"
   ]
  },
  {
   "cell_type": "markdown",
   "id": "bf436165",
   "metadata": {},
   "source": [
    "#### Задание №12\n",
    "Напишите генератор get_frames(), который производит «оконную декомпозицию» сигнала: на основе входного списка генерирует набор списков – перекрывающихся отдельных фрагментов сигнала размера size со степенью перекрытия overlap.<br>Пример вызова:<br>\n",
    "<code>for frame in get_frames(signal, size=1024, overlap=0.5):<br>\n",
    "&nbsp;print(frame)</code>"
   ]
  },
  {
   "cell_type": "code",
   "execution_count": null,
   "id": "64ecfd77",
   "metadata": {},
   "outputs": [],
   "source": [
    "from scipy.io.wavfile import read, write\n",
    "import matplotlib.pyplot as plt\n",
    "import numpy as np\n",
    "import IPython\n",
    "\n",
    "def getFrames(sequence, size, overlap):\n",
    "    result = []\n",
    "    index = 0\n",
    "    step = size - int(size * overlap)\n",
    "    for i in range(0, int(len(sequence) / step)):\n",
    "        if (index + size > len(sequence)):\n",
    "            result.append([sequence[item] for item in range(index, len(sequence))])\n",
    "            break\n",
    "        else:\n",
    "            result.append([sequence[item] for item in range(index, index + size)])\n",
    "            index += step\n",
    "    yield result\n",
    "\n",
    "Fs, data = read('jazz.wav')\n",
    "\n",
    "signal = np.array(*[item for item in getFrames(data[:,0], size = 2048, overlap = 0.4)]).flatten()\n",
    "\n",
    "write('output.wav', Fs, signal)\n",
    "\n",
    "plt.figure()\n",
    "plt.plot(data[:,0])\n",
    "plt.title(\"Input\")\n",
    "plt.show()\n",
    "IPython.display.display(IPython.display.Audio(data[:,0], rate = 48000))\n",
    "\n",
    "plt.figure()\n",
    "plt.plot(signal)\n",
    "plt.title(\"Output\")\n",
    "plt.show()\n",
    "IPython.display.display(IPython.display.Audio(signal, rate = 48000))\n",
    "\n",
    "plt.figure()\n",
    "plt.plot(data[:,0])\n",
    "plt.plot(signal)\n",
    "plt.title(\"Comparasion\")\n",
    "plt.show()"
   ]
  },
  {
   "cell_type": "markdown",
   "id": "36bde33f",
   "metadata": {},
   "source": [
    "#### Задание №13\n",
    "Напишите собственную версию генератора enumerate под названием extra_enumerate.<br>Пример вызова:<br>\n",
    "<code>for i, elem, cum, frac in extra_enumerate(x):<br>\n",
    " &nbsp;print(elem, cum, frac)</code><br>\n",
    "В переменной cum хранится накопленная сумма на момент текущей итерации, в переменной frac – доля накопленной суммы от общей суммы на момент текущей итерации. Например, для списка x=[1,3,4,2] \n",
    "вывод будет таким:<br>\n",
    "<code>(1, 1, 0.1) (3, 4, 0.4) (4, 8, 0.8) (2, 10, 1)</code>"
   ]
  },
  {
   "cell_type": "code",
   "execution_count": 33,
   "id": "8c189c8f",
   "metadata": {},
   "outputs": [
    {
     "name": "stdout",
     "output_type": "stream",
     "text": [
      "(1, 1, 0.1)\n",
      "(3, 4, 0.4)\n",
      "(4, 8, 0.8)\n",
      "(2, 10, 1.0)\n"
     ]
    }
   ],
   "source": [
    "def extraEnumerate(sequence, start=0):\n",
    "     #----------------------------------------------\n",
    "     # Calculating the sum of a sequence of elements\n",
    "     # Why i don't use sum(collection)?\n",
    "     # cos it doesn't work...\n",
    "     totalSum = 0\n",
    "     for elem in sequence:\n",
    "         totalSum += elem\n",
    "     #----------------------------------------------\n",
    "\n",
    "     n = start\n",
    "     curSum = 0\n",
    "     for elem in sequence:\n",
    "         curSum += elem\n",
    "         frac = curSum / totalSum\n",
    "         yield n, elem, curSum, frac\n",
    "         n += 1\n",
    "\n",
    "for i, elem, sum, frac in extraEnumerate([1, 3, 4, 2]):\n",
    "    print(\"({}, {}, {})\".format(elem, sum, frac))"
   ]
  },
  {
   "cell_type": "markdown",
   "id": "3934bb7f",
   "metadata": {},
   "source": [
    "#### Задание №14\n",
    "Напишите декоратор non_empty, который дополнительно проверяет списковый результат любой функции: если в нем содержатся пустые строки или значение None, то они удаляются.<br>\n",
    "Пример кода:<br>\n",
    "<code>@non_empty<br>\n",
    "def get_pages():<br>\n",
    " &nbsp;return ['chapter1', '', 'contents', '', 'line1']</code>"
   ]
  },
  {
   "cell_type": "code",
   "execution_count": 72,
   "id": "b2369601",
   "metadata": {},
   "outputs": [
    {
     "name": "stdout",
     "output_type": "stream",
     "text": [
      "Input:\n",
      " ['chapter1', '', 'contents', '', 'line1', None] Length =  6\n",
      "Output:\n",
      " ['chapter1', 'contents', 'line1'] Length =  3\n"
     ]
    }
   ],
   "source": [
    "def nonEmpty(func):\n",
    "    return [item for item in func() if item]\n",
    "\n",
    "@nonEmpty\n",
    "def getPages():\n",
    "    pgs = ['chapter1', '', 'contents', '', 'line1', None]\n",
    "    print(\"Input:\\n\", pgs, \"Length = \", len(pgs))\n",
    "    return pgs \n",
    "\n",
    "print(\"Output:\\n\", getPages, \"Length = \", len(getPages))"
   ]
  },
  {
   "cell_type": "markdown",
   "id": "7469d08b",
   "metadata": {},
   "source": [
    "#### Задание №15\n",
    "Напишите параметризированный декоратор pre_process, который осуществляет предварительную обработку (цифровую фильтрацию) списка по алгоритму: s[i] = s[i]–a∙s[i–1]. Параметр а можно задать в коде (по умолчанию равен 0.97).\n",
    "<br>Пример кода:<br>\n",
    "<code>@pre_process(a=0.93)<br>\n",
    "def plot_signal(s):<br>\n",
    " &nbsp;for sample in s:<br>\n",
    "  &nbsp;&nbsp;print(sample)</code>"
   ]
  },
  {
   "cell_type": "code",
   "execution_count": 56,
   "id": "3b5b9bad",
   "metadata": {},
   "outputs": [
    {
     "name": "stdout",
     "output_type": "stream",
     "text": [
      "Input:\n",
      " 9 7 3 7 4 9 7\n",
      "Output:\n",
      " 2.49 4.684 -1.356 8.261 -3.683 12.425 -4.556\n"
     ]
    }
   ],
   "source": [
    "from functools import wraps\n",
    "import random\n",
    "\n",
    "def preProcess(a = 0.97):\n",
    "    def getRes(func):\n",
    "        @wraps(func)\n",
    "        def wrapper(sample):\n",
    "            i = 0\n",
    "            while (i < len(sample)):\n",
    "                sample[i] = sample[i] - a * sample[i - 1]\n",
    "                i += 1\n",
    "            func(sample)\n",
    "        return wrapper\n",
    "    return getRes\n",
    "\n",
    "@preProcess(a = 0.93)\n",
    "def plotSignal(s):\n",
    "    print(\"Output:\\n\", *[round(item, 3) for item in s])\n",
    "\n",
    "\n",
    "sample = [random.randint(1,9) for item in range(random.randint(1, 10))]\n",
    "print(\"Input:\\n\", *sample)\n",
    "plotSignal(sample)"
   ]
  },
  {
   "cell_type": "markdown",
   "id": "4493e480",
   "metadata": {},
   "source": [
    "#### Задание №16\n",
    "Напишите скрипт, который на основе списка из 16 названий футбольных команд случайным образом формирует 4 группы по 4 команды, а также выводит на консоль календарь всех игр (игры должны проходить по средам, раз в 2 недели, начиная с 14 сентября текущего года). Даты игр необходимо выводить в формате\n",
    "«14/09/2016, 22:45». Используйте модули random и itertools."
   ]
  },
  {
   "cell_type": "code",
   "execution_count": 236,
   "id": "5e004e1f",
   "metadata": {},
   "outputs": [
    {
     "name": "stdout",
     "output_type": "stream",
     "text": [
      "Group #1: ['Manchester City', 'Burnley', 'Aston Villa', 'Liverpool']\n",
      "Group #2: ['Leicester City', 'Newcastle United', 'Norwich City', 'Brighton and Hove Albion']\n",
      "Group #3: ['Manchester United', 'Arsenal', 'Leeds United', 'Chelsea']\n",
      "Group #4: ['Crystal Palace FC', 'Brentford', 'Everton FC', 'Southampton']\n",
      "Pair #1: ['Manchester City', 'Burnley']\n",
      "Pair #2: ['Aston Villa', 'Liverpool']\n",
      "Pair #3: ['Leicester City', 'Newcastle United']\n",
      "Pair #4: ['Norwich City', 'Brighton and Hove Albion']\n",
      "Pair #5: ['Manchester United', 'Arsenal']\n",
      "Pair #6: ['Leeds United', 'Chelsea']\n",
      "Pair #7: ['Crystal Palace FC', 'Brentford']\n",
      "Pair #8: ['Everton FC', 'Southampton']\n",
      "14/09/2022, 00:00 - Manchester City vs Burnley\n",
      "28/09/2022, 00:00 - Aston Villa vs Liverpool\n",
      "05/10/2022, 00:00 - Leicester City vs Newcastle United\n",
      "19/10/2022, 00:00 - Norwich City vs Brighton and Hove Albion\n",
      "26/10/2022, 00:00 - Manchester United vs Arsenal\n",
      "09/11/2022, 00:00 - Leeds United vs Chelsea\n",
      "23/11/2022, 00:00 - Crystal Palace FC vs Brentford\n",
      "30/11/2022, 00:00 - Everton FC vs Southampton\n"
     ]
    }
   ],
   "source": [
    "import random\n",
    "import calendar\n",
    "import itertools\n",
    "\n",
    "teams = [ 'Arsenal',  'Aston Villa', 'Brentford', 'Brighton and Hove Albion', 'Burnley', 'Chelsea',\n",
    "          'Crystal Palace FC', 'Everton FC', 'Leeds United', 'Leicester City', 'Liverpool',\n",
    "          'Manchester City', 'Manchester United', 'Newcastle United', 'Norwich City', 'Southampton' ]\n",
    "\n",
    "def getGroups(iterable, n):\n",
    "    for i in range(0, len(iterable), n):\n",
    "        yield iterable[i:i + n]\n",
    "\n",
    "random.shuffle(teams)\n",
    "\n",
    "groups = [item for item in getGroups(teams, 4)]\n",
    "\n",
    "pairs = []\n",
    "\n",
    "for item in groups:\n",
    "    for meh in range(0, len(item), 2):\n",
    "        pairs.append([item[meh], item[meh + 1]])\n",
    "\n",
    "for i in range(0, len(groups)):\n",
    "    print(\"Group #{}: {}\".format(i + 1, groups[i]))\n",
    "\n",
    "for i in range(0, len(pairs)):\n",
    "    print(\"Pair #{}: {}\".format(i + 1, pairs[i]))\n",
    "\n",
    "\n",
    "cal = calendar.Calendar(2)\n",
    "year = [cal.monthdatescalendar(2022, i) for i in range(9, 13)]\n",
    "weaks = []\n",
    "for mounth in year:\n",
    "    for weak in mounth:\n",
    "        weaks.append(weak)\n",
    "\n",
    "playdays = []\n",
    "for i in range(1, len(weaks)):\n",
    "    if i % 2 == 0:\n",
    "        playdays.append(weaks[i][0])\n",
    "\n",
    "for i in range(0, len(pairs)):\n",
    "    print(playdays[i].strftime(\"%d/%m/%Y, %H:%M -\"), pairs[i][0], \"vs\", pairs[i][1])"
   ]
  }
 ],
 "metadata": {
  "kernelspec": {
   "display_name": "Python 3 (ipykernel)",
   "language": "python",
   "name": "python3"
  },
  "language_info": {
   "codemirror_mode": {
    "name": "ipython",
    "version": 3
   },
   "file_extension": ".py",
   "mimetype": "text/x-python",
   "name": "python",
   "nbconvert_exporter": "python",
   "pygments_lexer": "ipython3",
   "version": "3.9.7"
  }
 },
 "nbformat": 4,
 "nbformat_minor": 5
}
