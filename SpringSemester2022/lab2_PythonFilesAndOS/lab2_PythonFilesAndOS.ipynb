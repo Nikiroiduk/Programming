{
 "cells": [
  {
   "cell_type": "markdown",
   "metadata": {},
   "source": [
    "#### Задание №1\n",
    "Напишите скрипт, который читает текстовый файл и выводит символы \n",
    "в порядке убывания частоты встречаемости в тексте. Регистр символа \n",
    "не имеет значения. Программа должна учитывать только буквенные \n",
    "символы (символы пунктуации, цифры и служебные символы слудет \n",
    "игнорировать). Проверьте работу скрипта на нескольких файлах с \n",
    "текстом на английском и русском языках, сравните результаты с \n",
    "таблицами, приведенными в [Wikipedia](https://en.wikipedia.org/wiki/Letter_frequency)."
   ]
  },
  {
   "cell_type": "code",
   "execution_count": 180,
   "metadata": {},
   "outputs": [
    {
     "name": "stdout",
     "output_type": "stream",
     "text": [
      "Character 'E' met 59569 times which is 12.48%\n",
      "Character 'T' met 43083 times which is 9.03%\n",
      "Character 'A' met 39551 times which is 8.29%\n",
      "Character 'O' met 37066 times which is 7.77%\n",
      "Character 'N' met 33944 times which is 7.11%\n",
      "Character 'I' met 32812 times which is 6.88%\n",
      "Character 'S' met 31597 times which is 6.62%\n",
      "Character 'R' met 30742 times which is 6.44%\n",
      "Character 'H' met 25386 times which is 5.32%\n",
      "Character 'L' met 20755 times which is 4.35%\n",
      "Character 'D' met 20038 times which is 4.2%\n",
      "Character 'U' met 13569 times which is 2.84%\n",
      "Character 'C' met 13155 times which is 2.76%\n",
      "Character 'F' met 11956 times which is 2.51%\n",
      "Character 'M' met 10704 times which is 2.24%\n",
      "Character 'W' met 10542 times which is 2.21%\n",
      "Character 'G' met 9512 times which is 1.99%\n",
      "Character 'P' met 8290 times which is 1.74%\n",
      "Character 'Y' met 8211 times which is 1.72%\n",
      "Character 'B' met 6800 times which is 1.42%\n",
      "Character 'V' met 5340 times which is 1.12%\n",
      "Character 'K' met 2373 times which is 0.5%\n",
      "Character 'X' met 681 times which is 0.14%\n",
      "Character 'Q' met 572 times which is 0.12%\n",
      "Character 'J' met 559 times which is 0.12%\n",
      "Character 'Z' met 394 times which is 0.08%\n"
     ]
    }
   ],
   "source": [
    "with open('OnSunsetHighways-ThomasDMurph.txt', 'r') as book:\n",
    "    lines = \"\".join(symbol for symbol in \"\".join(elem for elem in [line.strip().lower() for line in book.readlines() if len(line.strip()) > 0]) if symbol.isalpha())\n",
    "chars = \"abcdefghijklmnopqrstuvwxyz\"\n",
    "res = dict()\n",
    "for char in chars:\n",
    "    count = lines.count(char)\n",
    "    if count > 1:\n",
    "        res[char] = count\n",
    "res = dict(sorted(res.items(), key=lambda x: x[1], reverse=True))\n",
    "\n",
    "for key, value in res.items():\n",
    "    print(\"Character '{}' met {} times which is {}%\".format(key.upper(), value, round(value / len(lines) * 100, 2)))"
   ]
  },
  {
   "cell_type": "markdown",
   "metadata": {},
   "source": [
    "#### Задание №2\n",
    "Напишите скрипт, позволяющий искать в заданной директории и в ее \n",
    "подпапках файлы-дубликаты на основе сравнения контрольных сумм \n",
    "(MD5). Файлы могут иметь одинаковое содержимое, но отличаться \n",
    "именами. Скрипт должен вывести группы имен обнаруженных файлов-дубликатов."
   ]
  },
  {
   "cell_type": "code",
   "execution_count": 184,
   "metadata": {},
   "outputs": [
    {
     "name": "stdout",
     "output_type": "stream",
     "text": [
      "MD5 = 78e30af8a6fa56ded1934d7b73fdc49b\n",
      "Files with this MD5 sum:\n",
      "g:\\Programming\\Programming\\Spring semester 2022\\lab2_PythonFilesAndOS\\img copy.jpg\n",
      "g:\\Programming\\Programming\\Spring semester 2022\\lab2_PythonFilesAndOS\\img.jpg\n",
      "\n",
      "MD5 = 602ce90badf637141d2d6f0be6ae2e28\n",
      "Files with this MD5 sum:\n",
      "g:\\Programming\\Programming\\Spring semester 2022\\lab2_PythonFilesAndOS\\lab2_PythonFilesAndOS.ipynb\n",
      "\n",
      "MD5 = 987956e605d462079c9bd07d8e798633\n",
      "Files with this MD5 sum:\n",
      "g:\\Programming\\Programming\\Spring semester 2022\\lab2_PythonFilesAndOS\\OnSunsetHighways-ThomasDMurph copy.txt\n",
      "g:\\Programming\\Programming\\Spring semester 2022\\lab2_PythonFilesAndOS\\OnSunsetHighways-ThomasDMurph.txt\n",
      "\n"
     ]
    }
   ],
   "source": [
    "import hashlib\n",
    "import os\n",
    "\n",
    "sums = []\n",
    "res = dict()\n",
    "for filename in os.listdir(os.getcwd()):\n",
    "    with open(os.path.join(os.getcwd(), filename), 'rb') as file:\n",
    "        data = file.read()\n",
    "        sum = hashlib.md5(data).hexdigest()\n",
    "        sums.append([file.name, sum])\n",
    "        res[sum] = \"\"\n",
    "\n",
    "for item in sums:\n",
    "    res[item[1]] += item[0] + '\\n'\n",
    "\n",
    "for key, value in res.items():\n",
    "    print(\"MD5 = {}\\nFiles with this MD5 sum:\\n{}\".format(key, value))"
   ]
  },
  {
   "cell_type": "markdown",
   "metadata": {},
   "source": [
    "#### Задание №3\n",
    "Задан путь к директории с музыкальными файлами (в названии \n",
    "которых нет номеров, а только названия песен) и текстовый файл, \n",
    "хранящий полный список песен с номерами и названиями в виде строк \n",
    "формата «01. Freefall [6:12]». Напишите скрипт, который корректирует\n",
    "имена файлов в директории на основе текста списка песен."
   ]
  },
  {
   "cell_type": "code",
   "execution_count": 231,
   "metadata": {},
   "outputs": [
    {
     "name": "stdout",
     "output_type": "stream",
     "text": [
      "Black Out Days.music   →   03. Black Out Days - PHANTOGRAM 03-47\n",
      "\n",
      "Enemy.music   →   04. Enemy - Imagine Dragons 02-53\n",
      "\n",
      "Haul.music   →   06. Haul - Christian Löffler 05-15\n",
      "\n",
      "Nikki.music   →   07. Nikki - Worakls 05-31\n",
      "\n",
      "Riptide.music   →   01. Riptide - Vance Joy 03-24\n",
      "\n",
      "Soldier of Heaven.music   →   02. Soldier of Heaven - Sabaton 03-58\n",
      "\n",
      "Zenith.music   →   05. Zenith - Kavinsky 03-30\n",
      "\n"
     ]
    }
   ],
   "source": [
    "import os\n",
    "\n",
    "with open('music.txt', 'r') as file:\n",
    "    lines = file.readlines()\n",
    "    files = []\n",
    "    for filename in os.listdir(os.getcwd()):\n",
    "        if (filename.endswith('.music')):\n",
    "            for item in lines:\n",
    "                if (filename[0:filename.index('.')] in item):\n",
    "                    os.rename(filename, item[0:len(item) - 1] + '.music')\n",
    "                    print(\"{}   →   {}\".format(filename, item))\n",
    "                \n",
    "\n"
   ]
  },
  {
   "cell_type": "markdown",
   "metadata": {},
   "source": [
    "#### Задание №4\n",
    "Напишите скрипт, который позволяет ввести с клавиатуры имя \n",
    "текстового файла, найти в нем с помощью регулярных выражений все \n",
    "подстроки определенного вида, в соответствии с вариантом. Например, \n",
    "для варианта № 1 скрипт должен вывести на экран следующее:<br>\n",
    "Строка 3, позиция 10 : найдено '11-05-2014'<br>\n",
    "Строка 12, позиция 2 : найдено '23-11-2014'<br>\n",
    "Строка 12, позиция 17 : найдено '23-11-2014'<br><br>\n",
    "Вариант 5: найдите все номера телефонов – подстроки вида \n",
    "<code>«(000)1112233»</code> или <code>«(000)111-22-33».</code>"
   ]
  },
  {
   "cell_type": "code",
   "execution_count": 7,
   "metadata": {},
   "outputs": [
    {
     "name": "stdout",
     "output_type": "stream",
     "text": [
      "Line 1, position 6: found '(000)1112233'\n",
      "Line 1, position 58: found '(000)111-22-33'\n",
      "Line 2, position 5: found '(463)3138110'\n",
      "Line 2, position 67: found '(127)8293762'\n",
      "Line 2, position 113: found '(787)7287075'\n",
      "Line 2, position 159: found '(940)729-28-97'\n",
      "Line 3, position 11: found '(894)433-65-19'\n",
      "Line 3, position 71: found '(374)576-09-09'\n",
      "Line 4, position 11: found '(377)041-77-57'\n",
      "Line 4, position 59: found '(995)139-99-59'\n",
      "Line 4, position 107: found '(423)989-76-88'\n",
      "Line 4, position 155: found '(444)831-50-17'\n",
      "Line 5, position 11: found '(714)4426624'\n",
      "Line 6, position 11: found '(968)8474240'\n",
      "Line 6, position 76: found '(630)5291359'\n",
      "Line 7, position 11: found '(874)1252968'\n",
      "Line 7, position 68: found '(674)9232486'\n",
      "Line 8, position 12: found '(070)2053595'\n",
      "Line 8, position 58: found '(411)1605921'\n",
      "Line 9, position 12: found '(642)2869203'\n",
      "Line 10, position 13: found '(582)3090951'\n",
      "Line 11, position 15: found '(718)9457026'\n"
     ]
    }
   ],
   "source": [
    "import re\n",
    "with open(input(), 'r') as file:\n",
    "    lines = file.readlines()\n",
    "\n",
    "i = 0\n",
    "for item in lines:\n",
    "    i += 1\n",
    "    tmp = re.findall(\"[(]\\d{3}[)]\\d{3}[-]\\d{2}[-]\\d{2}|[(]\\d{3}[)]\\d{3}\\d{2}\\d{2}\", item)\n",
    "    for elem in tmp:\n",
    "        j = item.index(elem) + 1\n",
    "        print(\"Line {}, position {}: found '{}'\".format(i, j, elem))\n"
   ]
  },
  {
   "cell_type": "markdown",
   "metadata": {},
   "source": [
    "#### Задание№5\n",
    "Введите с клавиатуры текст. Программно найдите в нем и выведите\n",
    "отдельно все слова, которые начинаются с большого латинского \n",
    "символа (от A до Z) и заканчиваются 2 или 4 цифрами, например \n",
    "<code>«Petr93»</code>, <code>«Johnny70»</code>, <code>«Service2002»</code>. Используйте регулярные \n",
    "выражения.\n"
   ]
  },
  {
   "cell_type": "code",
   "execution_count": 15,
   "metadata": {},
   "outputs": [
    {
     "name": "stdout",
     "output_type": "stream",
     "text": [
      "String: Johny70 GJKSD SDHGLS lsd dfdsfsd fd Petr93 and last name is Service2002\n",
      "Johny70\n",
      "Petr93\n",
      "Service20\n"
     ]
    }
   ],
   "source": [
    "import re\n",
    "\n",
    "text = input()\n",
    "print(\"String: {}\".format(text))\n",
    "#text = \"Johny70 JHSDLK F lsd fsldkfn sdlfns d Petr93 and last name is Service2002\"\n",
    "\n",
    "names = re.findall(\"[A-Z]{1}[a-zA-Z]+[0-9]{2}|[A-Z]{1}[a-zA-Z]+[0-9]{4}\", text)\n",
    "\n",
    "for item in names:\n",
    "    print(item)\n"
   ]
  },
  {
   "cell_type": "markdown",
   "metadata": {},
   "source": [
    "#### Задание №6\n",
    "Напишите скрипт reorganize.py, который в директории --source создает \n",
    "две директории: Archive и Small. В первую директорию помещаются \n",
    "файлы с датой изменения, отличающейся от текущей даты на \n",
    "количество дней более параметра --days (т.е. относительно старые \n",
    "файлы). Во вторую – все файлы размером меньше параметра --size байт. \n",
    "Каждая директория должна создаваться только в случае, если найден \n",
    "хотя бы один файл, который должен быть в нее помещен. Пример\n",
    "вызова:\n",
    "<br><code>reorganize --source \"C:\\TestDir\" --days 2 --size 4096</code>\n"
   ]
  },
  {
   "cell_type": "code",
   "execution_count": 63,
   "metadata": {},
   "outputs": [
    {
     "name": "stdout",
     "output_type": "stream",
     "text": [
      "Source:  g:/Programming/Programming/SpringSemester2022/lab2_PythonFilesAndOS\n",
      "Days:  0\n",
      "Size:  4096\n",
      "Archive was created! g:/Programming/Programming/SpringSemester2022/lab2_PythonFilesAndOS\\Archive\n",
      "01. Riptide - Vance Joy 03-24.music\n",
      "02. Soldier of Heaven - Sabaton 03-58.music\n",
      "03. Black Out Days - PHANTOGRAM 03-47.music\n",
      "04. Enemy - Imagine Dragons 02-53.music\n",
      "05. Zenith - Kavinsky 03-30.music\n",
      "06. Haul - Christian Löffler 05-15.music\n",
      "07. Nikki - Worakls 05-31.music\n",
      "img copy.jpg\n",
      "img.jpg\n",
      "lab2_PythonFilesAndOS.ipynb\n",
      "music.txt\n",
      "OnSunsetHighways-ThomasDMurph copy.txt\n",
      "OnSunsetHighways-ThomasDMurph.txt\n",
      "phoneNumbers.txt\n",
      "reorganize.py\n",
      "\n",
      "Small was created! g:/Programming/Programming/SpringSemester2022/lab2_PythonFilesAndOS\\Small\n",
      "01. Riptide - Vance Joy 03-24.music\n",
      "02. Soldier of Heaven - Sabaton 03-58.music\n",
      "03. Black Out Days - PHANTOGRAM 03-47.music\n",
      "04. Enemy - Imagine Dragons 02-53.music\n",
      "05. Zenith - Kavinsky 03-30.music\n",
      "06. Haul - Christian Löffler 05-15.music\n",
      "07. Nikki - Worakls 05-31.music\n",
      "music.txt\n",
      "phoneNumbers.txt\n",
      "reorganize.py\n"
     ]
    }
   ],
   "source": [
    "import os\n",
    "%run reorganize.py --source {os.getcwd().replace(\"\\\\\", \"/\")} --days 0 --size 4096"
   ]
  },
  {
   "cell_type": "markdown",
   "metadata": {},
   "source": [
    "#### Задание №7\n",
    "Написать скрипт trackmix.py, который формирует обзорный трек-микс \n",
    "альбома (попурри из коротких фрагментов mp3-файлов в \n",
    "пользовательской директории). Для манипуляций со звуковыми \n",
    "файлами можно использовать сторонние утилиты, например, FFmpeg.\n",
    "Пример вызова и работы скрипта:<br>\n",
    "<code>trackmix --source \"C:\\Muz\\Album\" --count 5 --frame 15 -l -e<br>\n",
    "--- processing file 1: 01 - Intro.mp3<br>\n",
    "--- processing file 2: 02 - Outro.mp3<br>\n",
    "--- done!</code><br>\n",
    "\n",
    "Параметры скрипта:<br>\n",
    "<code>--source (-s)</code> – имя рабочей директории с треками, обязателен;<br>\n",
    "<code>--destination (-d)</code> – имя выходного файла, необязателен (если не указан, \n",
    "то имя выходного файла – mix.mp3 в директории source);<br>\n",
    "<code>--count (-c)</code> – количество файлов в \"нарезке\", необязателен (если он не \n",
    "указан, то перебираются все mp3-файлы в директории source);<br>\n",
    "<code>--frame (-f)</code> – количество секунд на каждый файл, необязателен (если не \n",
    "указан, скрипт вырезает по 10 секунд из произвольного участка каждого \n",
    "файла);<br>\n",
    "<code>--log (-l)</code> – необязательный ключ (если этот ключ указывается, то скрипт \n",
    "должен выводить на консоль лог процесса обработки файлов, как в \n",
    "примере);<br>\n",
    "<code>--extended (-e)</code> – необязательный ключ (если этот ключ указывается, то \n",
    "каждый фрагмент попурри начинается и завершается небольшим \n",
    "fade in/fade out)."
   ]
  },
  {
   "cell_type": "code",
   "execution_count": 33,
   "metadata": {},
   "outputs": [
    {
     "name": "stdout",
     "output_type": "stream",
     "text": [
      "sample1.wav\n",
      "['g:/Programming/Programming/SpringSemester2022/lab2_PythonFilesAndOS/ffmpeg.exe', '-ss', '0', '-i', 'g:/Programming/Programming/SpringSemester2022/lab2_PythonFilesAndOS/Sample/sample1.wav', '-t', '2', 'g:/Programming/Programming/SpringSemester2022/lab2_PythonFilesAndOS/Sample/Cutsample1.mp3']\n",
      "FFmpeg Script Ran Successfully\n",
      "sample2.wav\n",
      "['g:/Programming/Programming/SpringSemester2022/lab2_PythonFilesAndOS/ffmpeg.exe', '-ss', '0', '-i', 'g:/Programming/Programming/SpringSemester2022/lab2_PythonFilesAndOS/Sample/sample2.wav', '-t', '2', 'g:/Programming/Programming/SpringSemester2022/lab2_PythonFilesAndOS/Sample/Cutsample2.mp3']\n",
      "FFmpeg Script Ran Successfully\n",
      "sample3.wav\n",
      "['g:/Programming/Programming/SpringSemester2022/lab2_PythonFilesAndOS/ffmpeg.exe', '-ss', '0', '-i', 'g:/Programming/Programming/SpringSemester2022/lab2_PythonFilesAndOS/Sample/sample3.wav', '-t', '2', 'g:/Programming/Programming/SpringSemester2022/lab2_PythonFilesAndOS/Sample/Cutsample3.mp3']\n",
      "FFmpeg Script Ran Successfully\n",
      "sample4.wav\n",
      "['g:/Programming/Programming/SpringSemester2022/lab2_PythonFilesAndOS/ffmpeg.exe', '-ss', '0', '-i', 'g:/Programming/Programming/SpringSemester2022/lab2_PythonFilesAndOS/Sample/sample4.wav', '-t', '2', 'g:/Programming/Programming/SpringSemester2022/lab2_PythonFilesAndOS/Sample/Cutsample4.mp3']\n",
      "FFmpeg Script Ran Successfully\n",
      "sample5.wav\n",
      "['g:/Programming/Programming/SpringSemester2022/lab2_PythonFilesAndOS/ffmpeg.exe', '-ss', '0', '-i', 'g:/Programming/Programming/SpringSemester2022/lab2_PythonFilesAndOS/Sample/sample5.wav', '-t', '2', 'g:/Programming/Programming/SpringSemester2022/lab2_PythonFilesAndOS/Sample/Cutsample5.mp3']\n",
      "FFmpeg Script Ran Successfully\n",
      "sample6.wav\n",
      "['g:/Programming/Programming/SpringSemester2022/lab2_PythonFilesAndOS/ffmpeg.exe', '-ss', '0', '-i', 'g:/Programming/Programming/SpringSemester2022/lab2_PythonFilesAndOS/Sample/sample6.wav', '-t', '2', 'g:/Programming/Programming/SpringSemester2022/lab2_PythonFilesAndOS/Sample/Cutsample6.mp3']\n",
      "FFmpeg Script Ran Successfully\n",
      "sample7.wav\n",
      "['g:/Programming/Programming/SpringSemester2022/lab2_PythonFilesAndOS/ffmpeg.exe', '-ss', '0', '-i', 'g:/Programming/Programming/SpringSemester2022/lab2_PythonFilesAndOS/Sample/sample7.wav', '-t', '2', 'g:/Programming/Programming/SpringSemester2022/lab2_PythonFilesAndOS/Sample/Cutsample7.mp3']\n",
      "FFmpeg Script Ran Successfully\n",
      "sample8.wav\n",
      "['g:/Programming/Programming/SpringSemester2022/lab2_PythonFilesAndOS/ffmpeg.exe', '-ss', '0', '-i', 'g:/Programming/Programming/SpringSemester2022/lab2_PythonFilesAndOS/Sample/sample8.wav', '-t', '2', 'g:/Programming/Programming/SpringSemester2022/lab2_PythonFilesAndOS/Sample/Cutsample8.mp3']\n",
      "FFmpeg Script Ran Successfully\n",
      "sample9.wav\n",
      "['g:/Programming/Programming/SpringSemester2022/lab2_PythonFilesAndOS/ffmpeg.exe', '-ss', '0', '-i', 'g:/Programming/Programming/SpringSemester2022/lab2_PythonFilesAndOS/Sample/sample9.wav', '-t', '2', 'g:/Programming/Programming/SpringSemester2022/lab2_PythonFilesAndOS/Sample/Cutsample9.mp3']\n",
      "FFmpeg Script Ran Successfully\n",
      "['g:/Programming/Programming/SpringSemester2022/lab2_PythonFilesAndOS/ffmpeg.exe', '-i', 'concat:g:/Programming/Programming/SpringSemester2022/lab2_PythonFilesAndOS/Sample/Cutsample1.mp3|g:/Programming/Programming/SpringSemester2022/lab2_PythonFilesAndOS/Sample/Cutsample2.mp3|g:/Programming/Programming/SpringSemester2022/lab2_PythonFilesAndOS/Sample/Cutsample3.mp3|g:/Programming/Programming/SpringSemester2022/lab2_PythonFilesAndOS/Sample/Cutsample4.mp3|g:/Programming/Programming/SpringSemester2022/lab2_PythonFilesAndOS/Sample/Cutsample5.mp3|g:/Programming/Programming/SpringSemester2022/lab2_PythonFilesAndOS/Sample/Cutsample6.mp3|g:/Programming/Programming/SpringSemester2022/lab2_PythonFilesAndOS/Sample/Cutsample7.mp3|g:/Programming/Programming/SpringSemester2022/lab2_PythonFilesAndOS/Sample/Cutsample8.mp3|g:/Programming/Programming/SpringSemester2022/lab2_PythonFilesAndOS/Sample/Cutsample9.mp3', '-acodec', 'copy', 'g:/Programming/Programming/SpringSemester2022/lab2_PythonFilesAndOS/pot-pourri/result.mp3']\n",
      "FFmpeg Script Ran Successfully\n"
     ]
    }
   ],
   "source": [
    "import os\n",
    "%run trackmix.py --source {os.getcwd().replace(\"\\\\\", \"/\")}/Sample --destination {os.getcwd().replace(\"\\\\\", \"/\")}/pot-pourri --count 9 --frame 2 --log 1 --extended 0"
   ]
  }
 ],
 "metadata": {
  "interpreter": {
   "hash": "9f16791964ada78e8baa879d472d03307b2c4f56fb83db9ddba013732f2cadfa"
  },
  "kernelspec": {
   "display_name": "Python 3.9.7 ('base')",
   "language": "python",
   "name": "python3"
  },
  "language_info": {
   "codemirror_mode": {
    "name": "ipython",
    "version": 3
   },
   "file_extension": ".py",
   "mimetype": "text/x-python",
   "name": "python",
   "nbconvert_exporter": "python",
   "pygments_lexer": "ipython3",
   "version": "3.9.7"
  },
  "orig_nbformat": 4
 },
 "nbformat": 4,
 "nbformat_minor": 2
}
