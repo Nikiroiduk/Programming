{
 "cells": [
  {
   "cell_type": "markdown",
   "metadata": {},
   "source": [
    "#### Задание №1\n",
    "Напишите скрипт, который читает текстовый файл и выводит символы \n",
    "в порядке убывания частоты встречаемости в тексте. Регистр символа \n",
    "не имеет значения. Программа должна учитывать только буквенные \n",
    "символы (символы пунктуации, цифры и служебные символы слудет \n",
    "игнорировать). Проверьте работу скрипта на нескольких файлах с \n",
    "текстом на английском и русском языках, сравните результаты с \n",
    "таблицами, приведенными в [Wikipedia](https://en.wikipedia.org/wiki/Letter_frequency)."
   ]
  },
  {
   "cell_type": "code",
   "execution_count": 180,
   "metadata": {},
   "outputs": [
    {
     "name": "stdout",
     "output_type": "stream",
     "text": [
      "Character 'E' met 59569 times which is 12.48%\n",
      "Character 'T' met 43083 times which is 9.03%\n",
      "Character 'A' met 39551 times which is 8.29%\n",
      "Character 'O' met 37066 times which is 7.77%\n",
      "Character 'N' met 33944 times which is 7.11%\n",
      "Character 'I' met 32812 times which is 6.88%\n",
      "Character 'S' met 31597 times which is 6.62%\n",
      "Character 'R' met 30742 times which is 6.44%\n",
      "Character 'H' met 25386 times which is 5.32%\n",
      "Character 'L' met 20755 times which is 4.35%\n",
      "Character 'D' met 20038 times which is 4.2%\n",
      "Character 'U' met 13569 times which is 2.84%\n",
      "Character 'C' met 13155 times which is 2.76%\n",
      "Character 'F' met 11956 times which is 2.51%\n",
      "Character 'M' met 10704 times which is 2.24%\n",
      "Character 'W' met 10542 times which is 2.21%\n",
      "Character 'G' met 9512 times which is 1.99%\n",
      "Character 'P' met 8290 times which is 1.74%\n",
      "Character 'Y' met 8211 times which is 1.72%\n",
      "Character 'B' met 6800 times which is 1.42%\n",
      "Character 'V' met 5340 times which is 1.12%\n",
      "Character 'K' met 2373 times which is 0.5%\n",
      "Character 'X' met 681 times which is 0.14%\n",
      "Character 'Q' met 572 times which is 0.12%\n",
      "Character 'J' met 559 times which is 0.12%\n",
      "Character 'Z' met 394 times which is 0.08%\n"
     ]
    }
   ],
   "source": [
    "with open('OnSunsetHighways-ThomasDMurph.txt', 'r') as book:\n",
    "    lines = \"\".join(symbol for symbol in \"\".join(elem for elem in [line.strip().lower() for line in book.readlines() if len(line.strip()) > 0]) if symbol.isalpha())\n",
    "chars = \"abcdefghijklmnopqrstuvwxyz\"\n",
    "res = dict()\n",
    "for char in chars:\n",
    "    count = lines.count(char)\n",
    "    if count > 1:\n",
    "        res[char] = count\n",
    "res = dict(sorted(res.items(), key=lambda x: x[1], reverse=True))\n",
    "\n",
    "for key, value in res.items():\n",
    "    print(\"Character '{}' met {} times which is {}%\".format(key.upper(), value, round(value / len(lines) * 100, 2)))"
   ]
  },
  {
   "cell_type": "markdown",
   "metadata": {},
   "source": [
    "#### Задание №2\n",
    "Напишите скрипт, позволяющий искать в заданной директории и в ее \n",
    "подпапках файлы-дубликаты на основе сравнения контрольных сумм \n",
    "(MD5). Файлы могут иметь одинаковое содержимое, но отличаться \n",
    "именами. Скрипт должен вывести группы имен обнаруженных файлов-дубликатов."
   ]
  },
  {
   "cell_type": "code",
   "execution_count": 184,
   "metadata": {},
   "outputs": [
    {
     "name": "stdout",
     "output_type": "stream",
     "text": [
      "MD5 = 78e30af8a6fa56ded1934d7b73fdc49b\n",
      "Files with this MD5 sum:\n",
      "g:\\Programming\\Programming\\Spring semester 2022\\lab2_PythonFilesAndOS\\img copy.jpg\n",
      "g:\\Programming\\Programming\\Spring semester 2022\\lab2_PythonFilesAndOS\\img.jpg\n",
      "\n",
      "MD5 = 602ce90badf637141d2d6f0be6ae2e28\n",
      "Files with this MD5 sum:\n",
      "g:\\Programming\\Programming\\Spring semester 2022\\lab2_PythonFilesAndOS\\lab2_PythonFilesAndOS.ipynb\n",
      "\n",
      "MD5 = 987956e605d462079c9bd07d8e798633\n",
      "Files with this MD5 sum:\n",
      "g:\\Programming\\Programming\\Spring semester 2022\\lab2_PythonFilesAndOS\\OnSunsetHighways-ThomasDMurph copy.txt\n",
      "g:\\Programming\\Programming\\Spring semester 2022\\lab2_PythonFilesAndOS\\OnSunsetHighways-ThomasDMurph.txt\n",
      "\n"
     ]
    }
   ],
   "source": [
    "import hashlib\n",
    "import os\n",
    "\n",
    "sums = []\n",
    "res = dict()\n",
    "for filename in os.listdir(os.getcwd()):\n",
    "    with open(os.path.join(os.getcwd(), filename), 'rb') as file:\n",
    "        data = file.read()\n",
    "        sum = hashlib.md5(data).hexdigest()\n",
    "        sums.append([file.name, sum])\n",
    "        res[sum] = \"\"\n",
    "\n",
    "for item in sums:\n",
    "    res[item[1]] += item[0] + '\\n'\n",
    "\n",
    "for key, value in res.items():\n",
    "    print(\"MD5 = {}\\nFiles with this MD5 sum:\\n{}\".format(key, value))"
   ]
  },
  {
   "cell_type": "markdown",
   "metadata": {},
   "source": [
    "#### Задание №3\n",
    "Задан путь к директории с музыкальными файлами (в названии \n",
    "которых нет номеров, а только названия песен) и текстовый файл, \n",
    "хранящий полный список песен с номерами и названиями в виде строк \n",
    "формата «01. Freefall [6:12]». Напишите скрипт, который корректирует\n",
    "имена файлов в директории на основе текста списка песен."
   ]
  },
  {
   "cell_type": "code",
   "execution_count": 231,
   "metadata": {},
   "outputs": [
    {
     "name": "stdout",
     "output_type": "stream",
     "text": [
      "Black Out Days.music   →   03. Black Out Days - PHANTOGRAM 03-47\n",
      "\n",
      "Enemy.music   →   04. Enemy - Imagine Dragons 02-53\n",
      "\n",
      "Haul.music   →   06. Haul - Christian Löffler 05-15\n",
      "\n",
      "Nikki.music   →   07. Nikki - Worakls 05-31\n",
      "\n",
      "Riptide.music   →   01. Riptide - Vance Joy 03-24\n",
      "\n",
      "Soldier of Heaven.music   →   02. Soldier of Heaven - Sabaton 03-58\n",
      "\n",
      "Zenith.music   →   05. Zenith - Kavinsky 03-30\n",
      "\n"
     ]
    }
   ],
   "source": [
    "import os\n",
    "\n",
    "with open('music.txt', 'r') as file:\n",
    "    lines = file.readlines()\n",
    "    files = []\n",
    "    for filename in os.listdir(os.getcwd()):\n",
    "        if (filename.endswith('.music')):\n",
    "            for item in lines:\n",
    "                if (filename[0:filename.index('.')] in item):\n",
    "                    os.rename(filename, item[0:len(item) - 1] + '.music')\n",
    "                    print(\"{}   →   {}\".format(filename, item))\n",
    "                \n",
    "\n"
   ]
  },
  {
   "cell_type": "markdown",
   "metadata": {},
   "source": [
    "#### Задание №4\n",
    "Напишите скрипт, который позволяет ввести с клавиатуры имя \n",
    "текстового файла, найти в нем с помощью регулярных выражений все \n",
    "подстроки определенного вида, в соответствии с вариантом. Например, \n",
    "для варианта № 1 скрипт должен вывести на экран следующее:<br>\n",
    "Строка 3, позиция 10 : найдено '11-05-2014'<br>\n",
    "Строка 12, позиция 2 : найдено '23-11-2014'<br>\n",
    "Строка 12, позиция 17 : найдено '23-11-2014'<br><br>\n",
    "Вариант 5: найдите все номера телефонов – подстроки вида \n",
    "<code>«(000)1112233»</code> или <code>«(000)111-22-33».</code>"
   ]
  },
  {
   "cell_type": "code",
   "execution_count": 249,
   "metadata": {},
   "outputs": [
    {
     "name": "stdout",
     "output_type": "stream",
     "text": [
      "Line Undefined, position Undefined: found '(000)1112233'\n",
      "Line Undefined, position Undefined: found '(000)111-22-33'\n",
      "Line Undefined, position Undefined: found '(463)3138110'\n",
      "Line Undefined, position Undefined: found '(127)8293762'\n",
      "Line Undefined, position Undefined: found '(787)7287075'\n",
      "Line Undefined, position Undefined: found '(940)729-28-97'\n",
      "Line Undefined, position Undefined: found '(894)433-65-19'\n",
      "Line Undefined, position Undefined: found '(374)576-09-09'\n",
      "Line Undefined, position Undefined: found '(377)041-77-57'\n",
      "Line Undefined, position Undefined: found '(995)139-99-59'\n",
      "Line Undefined, position Undefined: found '(423)989-76-88'\n",
      "Line Undefined, position Undefined: found '(444)831-50-17'\n",
      "Line Undefined, position Undefined: found '(714)4426624'\n",
      "Line Undefined, position Undefined: found '(968)8474240'\n",
      "Line Undefined, position Undefined: found '(630)5291359'\n",
      "Line Undefined, position Undefined: found '(874)1252968'\n",
      "Line Undefined, position Undefined: found '(674)9232486'\n",
      "Line Undefined, position Undefined: found '(070)2053595'\n",
      "Line Undefined, position Undefined: found '(411)1605921'\n",
      "Line Undefined, position Undefined: found '(642)2869203'\n",
      "Line Undefined, position Undefined: found '(582)3090951'\n",
      "Line Undefined, position Undefined: found '(718)9457026'\n"
     ]
    }
   ],
   "source": [
    "import re\n",
    "with open(input(), 'r') as file:\n",
    "    lines = file.readlines()\n",
    "\n",
    "for item in lines:\n",
    "    tmp = re.findall(\"[(]\\d{3}[)]\\d{3}[-]\\d{2}[-]\\d{2}|[(]\\d{3}[)]\\d{3}\\d{2}\\d{2}\", item)\n",
    "    for elem in tmp:\n",
    "        print(\"Line {}, position {}: found '{}'\".format('Undefined', 'Undefined', elem))\n",
    "        #TODO: Line numbers and position in line\n"
   ]
  }
 ],
 "metadata": {
  "interpreter": {
   "hash": "9f16791964ada78e8baa879d472d03307b2c4f56fb83db9ddba013732f2cadfa"
  },
  "kernelspec": {
   "display_name": "Python 3.9.7 ('base')",
   "language": "python",
   "name": "python3"
  },
  "language_info": {
   "codemirror_mode": {
    "name": "ipython",
    "version": 3
   },
   "file_extension": ".py",
   "mimetype": "text/x-python",
   "name": "python",
   "nbconvert_exporter": "python",
   "pygments_lexer": "ipython3",
   "version": "3.9.7"
  },
  "orig_nbformat": 4
 },
 "nbformat": 4,
 "nbformat_minor": 2
}
