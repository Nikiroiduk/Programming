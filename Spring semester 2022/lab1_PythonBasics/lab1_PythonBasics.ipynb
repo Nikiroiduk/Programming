{
 "cells": [
  {
   "cell_type": "markdown",
   "id": "05a24a53",
   "metadata": {},
   "source": [
    "#### Задание №1                                                       \n",
    "Напишите скрипт, который преобразует введенное с клавиатуры вещественное число в денежный формат. Например, число 12,5 должно быть преобразовано к виду «12 руб. 50 коп.». В случае ввода отрицательного числа выдайте сообщение «Некорректный формат!» путем обработки исключения в коде.                               "
   ]
  },
  {
   "cell_type": "code",
   "execution_count": 9,
   "id": "54e33aee",
   "metadata": {},
   "outputs": [
    {
     "name": "stdout",
     "output_type": "stream",
     "text": [
      "12 руб. 50 коп.\n"
     ]
    }
   ],
   "source": [
    "money = input(\"Enter your number: \")\n",
    "try:\n",
    "    if float(money) < 0: raise ValueError('Money should be a positive')\n",
    "    print(\"{} руб. {} коп.\".format(money.split(\".\")[0], money.split(\".\")[1].ljust(2, '0')))\n",
    "except ValueError as e:\n",
    "    print(e)"
   ]
  },
  {
   "cell_type": "markdown",
   "id": "5d7f02b8",
   "metadata": {},
   "source": [
    "#### Задание №2                                                     \n",
    "Написать скрипт, который выводит на экран «True», если элементы программно задаваемого списка представляют собой возрастающую последовательность, иначе – «False».                           "
   ]
  },
  {
   "cell_type": "code",
   "execution_count": 13,
   "id": "bf8a0f2d",
   "metadata": {},
   "outputs": [
    {
     "name": "stdout",
     "output_type": "stream",
     "text": [
      "True\n",
      "False\n"
     ]
    }
   ],
   "source": [
    "def isAscending(lst):                                             \n",
    "    i = 1\n",
    "    while i < len(lst): \n",
    "        if (lst[i] < lst[i - 1]): return bool(0)\n",
    "        i += 1\n",
    "    return bool(1)\n",
    "\n",
    "print(isAscending([1, 2, 3, 4, 5, 6, 7, 8]))    \n",
    "print(isAscending([6, 2, 5, 4, 5, 6, 7, 8]))"
   ]
  },
  {
   "cell_type": "markdown",
   "id": "23a79610",
   "metadata": {},
   "source": []
  },
  {
   "cell_type": "markdown",
   "id": "d4d40a8e",
   "metadata": {},
   "source": [
    "#### Задание №3                                                        \n",
    "Напишите скрипт, который позволяет ввести с клавиатуры номер дебетовой карты (16 цифр) и выводит номер в скрытом виде: первые и последние 4 цифры отображены нормально, а между ними – символы «*» (например, 5123 **** **** 1212).                              "
   ]
  },
  {
   "cell_type": "code",
   "execution_count": 14,
   "id": "dfd0f94b",
   "metadata": {},
   "outputs": [
    {
     "name": "stdout",
     "output_type": "stream",
     "text": [
      "1234 **** **** 4567\n"
     ]
    }
   ],
   "source": [
    "number = input(\"Card number: \")\n",
    "print(number[:4], \"**** ****\", number[-4:])"
   ]
  },
  {
   "cell_type": "markdown",
   "id": "51b72449",
   "metadata": {},
   "source": [
    "#### Задание №4                                                        \n",
    "Напишите скрипт, который разделяет введенный с клавиатуры текст на слова и выводит сначала те слова, длина которых превосходит 7 символов, затем слова размером от 4 до 7 символов, затем – все остальные.                                                        "
   ]
  },
  {
   "cell_type": "code",
   "execution_count": 15,
   "id": "f0d6062d",
   "metadata": {},
   "outputs": [
    {
     "name": "stdout",
     "output_type": "stream",
     "text": [
      "some text Here ok\n"
     ]
    }
   ],
   "source": [
    "print(*sorted(input(\"Enter text: \").split(), key = len, reverse = True)[0:])"
   ]
  },
  {
   "cell_type": "markdown",
   "id": "7dcf58cb",
   "metadata": {},
   "source": [
    "#### Задание №5                                                        \n",
    "Напишите скрипт, который позволяет ввести с клавиатуры текст предложения и сформировать новую строку на основе исходной, в которой все слова, начинающиеся с большой буквы, приведены к верхнему регистру. Слова могут разделяться запятыми или пробелами. Например, если пользователь введет строку «город Донецк, река Кальмиус», результирующая строка должна выглядеть так: «город ДОНЕЦК, река КАЛЬМИУС».                                           "
   ]
  },
  {
   "cell_type": "code",
   "execution_count": 16,
   "id": "c47b9213",
   "metadata": {},
   "outputs": [
    {
     "name": "stdout",
     "output_type": "stream",
     "text": [
      "and some more THERE\n"
     ]
    }
   ],
   "source": [
    "print(*[item.upper() if item[0].isupper() else item.lower() for item in input(\"Your text: \").split()])"
   ]
  },
  {
   "cell_type": "markdown",
   "id": "0e746094",
   "metadata": {},
   "source": [
    "#### Задание №6                                                    \n",
    "Напишите программу, позволяющую ввести с клавиатуры текст предложения и вывести на консоль все символы, которые входят в этот текст ровно по одному разу.                              "
   ]
  },
  {
   "cell_type": "code",
   "execution_count": 17,
   "id": "ed7951bf",
   "metadata": {},
   "outputs": [
    {
     "name": "stdout",
     "output_type": "stream",
     "text": [
      "  ? O S a e g h i k m n o r s t w\n"
     ]
    }
   ],
   "source": [
    "print(*sorted(list(set(input(\"Your string: \")))))"
   ]
  },
  {
   "cell_type": "markdown",
   "id": "1b3c038b",
   "metadata": {},
   "source": [
    "#### Задание №7                                                        \n",
    "Напишите скрипт, который обрабатывает список строк-адресов следующим образом: сначала определяет, начинается ли каждая строка в списке с префикса «www». Если условие выполняется, то скрипт должен вставить в начало этой строки префикс «http://», а затем проверить, что строка заканчивается на «.com». Если у строки другое окончание, то скрипт должен вставить в конец подстроку «.com». В итоге скрипт должен вывести на консоль новый список с измененными адресами. Используйте генераторы списков.           "
   ]
  },
  {
   "cell_type": "code",
   "execution_count": 18,
   "id": "4e563f20",
   "metadata": {},
   "outputs": [
    {
     "name": "stdout",
     "output_type": "stream",
     "text": [
      "http://www.github.com\n",
      "tg.org.com\n",
      "stackoverflow.com\n",
      "http://www.govnokod.ru.com\n",
      "http://www.deezer.fr.com\n"
     ]
    }
   ],
   "source": [
    "adresses = [\"www.github.com\", \"tg.org\", \"stackoverflow.com\", \"www.govnokod.ru\", \"www.deezer.fr\"]\n",
    "print(*[item[0:] + \".com\" if not item.endswith(\".com\") else item for item in [\"http://\" + item[0:] if item.startswith(\"www\") else item for item in adresses]], sep = \"\\n\")"
   ]
  },
  {
   "cell_type": "markdown",
   "id": "860a6d6e",
   "metadata": {},
   "source": [
    "#### Задание №8                                                        \n",
    "Напишите скрипт, генерирующий случайным образом число n в диапазоне от 1 до 10000. Скрипт должен создать массив из n целых чисел, также сгенерированных случайным образом, и дополнить массив нулями до размера, равного ближайшей сверху степени двойки. Например, если в массиве было n=100 элементов, то массив нужно дополнить 28 нулями, чтобы в итоге был массив из 128 элементов (ближайшая степень двойки к 100 – это число 128, к 35 это 64 и т.д.).                                                 "
   ]
  },
  {
   "cell_type": "code",
   "execution_count": 6,
   "id": "aca4fb4c",
   "metadata": {},
   "outputs": [
    {
     "name": "stdout",
     "output_type": "stream",
     "text": [
      "4 4 9 8 5 8 9 3 8 7 6 2 5 9 3 3 4 8 6 7 5 8 4 7 2 3 8 9 9 8 8 2 4 7 5 4 1 2 5 4 3 6 9 1 6 0 0 0 0 0 0 0 0 0 0 0 0 0 0 0 0 0 0 0\n"
     ]
    }
   ],
   "source": [
    "import random\n",
    "lst = [random.randint(1,9) for item in range(random.randint(1, 100))]\n",
    "print(*lst + [0 for item in range(len(lst), 1 << (len(lst) - 1).bit_length())])"
   ]
  },
  {
   "cell_type": "markdown",
   "id": "bbc1d344",
   "metadata": {},
   "source": [
    "#### Задание №9                                                        \n",
    "Напишите программу, имитирующую работу банкомата. Выберите структуру данных для хранения купюр разного достоинства в заданном количестве. При вводе пользователем запрашиваемой суммы денег, скрипт должен вывести на консоль количество купюр подходящего достоинства. Если имеющихся денег не хватает, то необходимо напечатать сообщение «Операция не может быть выполнена!». Например, при сумме 5370 рублей на консоль должно быть выведено «5x1000 + 3x100 + 1x50 + 2x10».                                   "
   ]
  },
  {
   "cell_type": "code",
   "execution_count": 48,
   "id": "ce037ebf",
   "metadata": {},
   "outputs": [
    {
     "name": "stdout",
     "output_type": "stream",
     "text": [
      "3x1000 + 1x500 + 0x100 + 1x50\n"
     ]
    }
   ],
   "source": [
    "money = {1000 : 10, 500 : 20, 100 : 20, 50 : 20}\n",
    "dict = {1000 : 0, 500 : 0, 100 : 0, 50 : 0}\n",
    "num = int(input(\"money: \"))\n",
    "\n",
    "def meh(rng, sum):\n",
    "    for item in range(money[rng]):\n",
    "        if (sum + rng <= num):\n",
    "            sum += rng\n",
    "            dict[rng] += 1\n",
    "    return sum\n",
    "\n",
    "sum = 0\n",
    "while sum < num:\n",
    "    for item in money:\n",
    "        sum = meh(item, sum)\n",
    "    if (sum < num):\n",
    "        print(\"Error!\")\n",
    "    break\n",
    "print(\"{}x1000 + {}x500 + {}x100 + {}x50\".format(dict[1000], dict[500], dict[100], dict[50]))"
   ]
  },
  {
   "cell_type": "markdown",
   "id": "eb102468",
   "metadata": {},
   "source": [
    "#### Задание №10\n",
    "Напишите скрипт, позволяющий определить надежность вводимого пользователем пароля. Это задание является творческим: алгоритм определения надежности разработайте самостоятельно."
   ]
  },
  {
   "cell_type": "code",
   "execution_count": 52,
   "id": "12c972de",
   "metadata": {},
   "outputs": [
    {
     "name": "stdout",
     "output_type": "stream",
     "text": [
      "more - better: 8\n"
     ]
    }
   ],
   "source": [
    "print(\"more - better: {}\".format(len(list(set(input(\"password: \"))))))"
   ]
  },
  {
   "cell_type": "markdown",
   "id": "697b3c99",
   "metadata": {},
   "source": [
    "#### Задание №11\n",
    "Напишите генератор frange как аналог range() с дробным шагом. \n",
    "<br>Пример вызова: <br>\n",
    "<code>for x in frange(1, 5, 0.1):<br>\n",
    "    &nbsp;print(x)</code><br>\n",
    "выводит 1 1.1 1.2 1.3 1.4 … 4.9"
   ]
  },
  {
   "cell_type": "code",
   "execution_count": 57,
   "id": "ef27cbd3",
   "metadata": {},
   "outputs": [
    {
     "name": "stdout",
     "output_type": "stream",
     "text": [
      "1\n",
      "1.1\n",
      "1.2\n",
      "1.3\n",
      "1.4\n",
      "1.5\n",
      "1.6\n",
      "1.7\n",
      "1.8\n",
      "1.9\n"
     ]
    }
   ],
   "source": [
    "def frange(start, end, step):\n",
    "    while start <= end:\n",
    "        yield round(start, 3)\n",
    "        start += step\n",
    "\n",
    "for x in frange(1, 2, 0.1):\n",
    "    print(x)"
   ]
  },
  {
   "cell_type": "markdown",
   "id": "bf436165",
   "metadata": {},
   "source": [
    "#### Задание №12\n",
    "Напишите генератор get_frames(), который производит «оконную декомпозицию» сигнала: на основе входного списка генерирует набор списков – перекрывающихся отдельных фрагментов сигнала размера size со степенью перекрытия overlap.<br>Пример вызова:<br>\n",
    "<code>for frame in get_frames(signal, size=1024, overlap=0.5):<br>\n",
    "&nbsp;print(frame)</code>"
   ]
  },
  {
   "cell_type": "code",
   "execution_count": 3,
   "metadata": {},
   "outputs": [],
   "source": [
    "#TODO: Хз че тут робить\n",
    "\n",
    "import os\n",
    "from scipy.io import wavfile\n",
    "def get_frames(signal, size, overlap):\n",
    "    res = []\n",
    "    res = list(set(signal))\n",
    "    # for item in signal:\n",
    "    #     res = list(set(item))\n",
    "    #     if len(res) < size: res.append(item)\n",
    "    return res\n",
    "    \n",
    "dirname = os.path.abspath(\"bass.wav\")\n",
    "fs, x = wavfile.read(os.path.join(dirname))\n",
    "#for frame in get_frames(x, 1024, 0.5):\n",
    "    #print(frame)"
   ]
  },
  {
   "cell_type": "markdown",
   "id": "36bde33f",
   "metadata": {},
   "source": [
    "#### Задание №13\n",
    "Напишите собственную версию генератора enumerate под названием extra_enumerate.<br>Пример вызова:<br>\n",
    "<code>for i, elem, cum, frac in extra_enumerate(x):<br>\n",
    " &nbsp;print(elem, cum, frac)</code><br>\n",
    "В переменной cum хранится накопленная сумма на момент текущей итерации, в переменной frac – доля накопленной суммы от общей суммы на момент текущей итерации. Например, для списка x=[1,3,4,2] \n",
    "вывод будет таким:<br>\n",
    "<code>(1, 1, 0.1) (3, 4, 0.4) (4, 8, 0.8) (2, 10, 1)</code>"
   ]
  },
  {
   "cell_type": "code",
   "execution_count": null,
   "id": "8c189c8f",
   "metadata": {},
   "outputs": [],
   "source": []
  },
  {
   "cell_type": "markdown",
   "id": "3934bb7f",
   "metadata": {},
   "source": [
    "#### Задание №14\n",
    "Напишите декоратор non_empty, который дополнительно проверяет списковый результат любой функции: если в нем содержатся пустые строки или значение None, то они удаляются.<br>\n",
    "Пример кода:<br>\n",
    "<code>@non_empty<br>\n",
    "def get_pages():<br>\n",
    " &nbsp;return ['chapter1', '', 'contents', '', 'line1']</code>"
   ]
  },
  {
   "cell_type": "code",
   "execution_count": null,
   "id": "b2369601",
   "metadata": {},
   "outputs": [],
   "source": []
  },
  {
   "cell_type": "markdown",
   "id": "7469d08b",
   "metadata": {},
   "source": [
    "#### Задание №15\n",
    "Напишите параметризированный декоратор pre_process, который осуществляет предварительную обработку (цифровую фильтрацию) списка по алгоритму: s[i] = s[i]–a∙s[i–1]. Параметр а можно задать в коде (по умолчанию равен 0.97).\n",
    "<br>Пример кода:<br>\n",
    "<code>@pre_process(a=0.93)<br>\n",
    "def plot_signal(s):<br>\n",
    " &nbsp;for sample in s:<br>\n",
    "  &nbsp;&nbsp;print(sample)</code>"
   ]
  },
  {
   "cell_type": "code",
   "execution_count": null,
   "id": "3b5b9bad",
   "metadata": {},
   "outputs": [],
   "source": []
  },
  {
   "cell_type": "markdown",
   "id": "4493e480",
   "metadata": {},
   "source": [
    "#### Задание №16\n",
    "Напишите скрипт, который на основе списка из 16 названий футбольных команд случайным образом формирует 4 группы по 4 команды, а также выводит на консоль календарь всех игр (игры должны проходить по средам, раз в 2 недели, начиная с 14 сентября текущего года). Даты игр необходимо выводить в формате\n",
    "«14/09/2016, 22:45». Используйте модули random и itertools."
   ]
  },
  {
   "cell_type": "code",
   "execution_count": null,
   "id": "5e004e1f",
   "metadata": {},
   "outputs": [],
   "source": []
  }
 ],
 "metadata": {
  "kernelspec": {
   "display_name": "Python 3 (ipykernel)",
   "language": "python",
   "name": "python3"
  },
  "language_info": {
   "codemirror_mode": {
    "name": "ipython",
    "version": 3
   },
   "file_extension": ".py",
   "mimetype": "text/x-python",
   "name": "python",
   "nbconvert_exporter": "python",
   "pygments_lexer": "ipython3",
   "version": "3.9.7"
  }
 },
 "nbformat": 4,
 "nbformat_minor": 5
}
